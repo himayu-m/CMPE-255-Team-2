{
  "nbformat": 4,
  "nbformat_minor": 0,
  "metadata": {
    "colab": {
      "name": "data_mining_project.ipynb",
      "provenance": [],
      "collapsed_sections": []
    },
    "kernelspec": {
      "name": "python3",
      "display_name": "Python 3"
    },
    "language_info": {
      "name": "python"
    },
    "accelerator": "GPU"
  },
  "cells": [
    {
      "cell_type": "code",
      "metadata": {
        "id": "iqKPDylPraxA"
      },
      "source": [
        "import numpy as np\n",
        "import pandas as pd\n",
        "import tensorflow as tf\n",
        "from keras.preprocessing.image import ImageDataGenerator\n",
        "\n",
        "from tensorflow.keras.applications import InceptionResNetV2\n",
        "\n",
        "from keras.layers import Activation, Dropout, Flatten, Dense\n",
        "from keras import regularizers, Sequential\n",
        "from keras.layers.normalization import BatchNormalization\n",
        "from keras.models import Model"
      ],
      "execution_count": 1,
      "outputs": []
    },
    {
      "cell_type": "code",
      "metadata": {
        "colab": {
          "base_uri": "https://localhost:8080/"
        },
        "id": "f-fj5AdardN7",
        "outputId": "5c0603c6-77be-40d7-efbb-b443d61f8a24"
      },
      "source": [
        "from google.colab import drive\n",
        "drive.mount('/content/drive')"
      ],
      "execution_count": 2,
      "outputs": [
        {
          "output_type": "stream",
          "text": [
            "Mounted at /content/drive\n"
          ],
          "name": "stdout"
        }
      ]
    },
    {
      "cell_type": "code",
      "metadata": {
        "id": "LwvhG5GCrl0b"
      },
      "source": [
        "batch_size = 64"
      ],
      "execution_count": 3,
      "outputs": []
    },
    {
      "cell_type": "code",
      "metadata": {
        "colab": {
          "base_uri": "https://localhost:8080/"
        },
        "id": "Nbe7ZX1Tr1-5",
        "outputId": "d640cb48-a000-461d-841a-c3e2a2603b65"
      },
      "source": [
        "# rescale normalizes the data for the images.\n",
        "# Data is split into train and validation sets\n",
        "image_data_gen = ImageDataGenerator(rescale = 1./255,\n",
        "                                    shear_range = 0.2,\n",
        "                                    zoom_range = 0.2,\n",
        "                                    horizontal_flip = True,\n",
        "                                    validation_split=0.2)\n",
        "\n",
        "train_it = image_data_gen.flow_from_directory(directory='/content/drive/MyDrive/tb2/TB_Chest_Radiography_Database',\n",
        "                                              target_size=(299, 299),\n",
        "                                              color_mode='rgb',\n",
        "                                              batch_size=batch_size,\n",
        "                                              class_mode='categorical',\n",
        "                                              subset='training'\n",
        "                                             )\n",
        "\n",
        "val_it = image_data_gen.flow_from_directory(directory='/content/drive/MyDrive/tb2/TB_Chest_Radiography_Database',\n",
        "                                              target_size=(299, 299),\n",
        "                                              color_mode='rgb',\n",
        "                                              batch_size=batch_size,\n",
        "                                              class_mode='categorical',\n",
        "                                              subset='validation'\n",
        "                                             )"
      ],
      "execution_count": 4,
      "outputs": [
        {
          "output_type": "stream",
          "text": [
            "Found 4264 images belonging to 2 classes.\n",
            "Found 1066 images belonging to 2 classes.\n"
          ],
          "name": "stdout"
        }
      ]
    },
    {
      "cell_type": "code",
      "metadata": {
        "colab": {
          "base_uri": "https://localhost:8080/"
        },
        "id": "uU7fB7NFsBia",
        "outputId": "c3aea4c1-7a3e-4bbf-e7c1-9d1e169722de"
      },
      "source": [
        "dnn201 = tf.keras.applications.InceptionResNetV2(\n",
        "    include_top=False,\n",
        "    input_tensor=None,\n",
        "    input_shape=(299,299,3),\n",
        "    weights = 'imagenet'\n",
        ")\n",
        "\n",
        "dnn201.trainable= False\n",
        "\n",
        "global_avg_layer = tf.keras.layers.GlobalAveragePooling2D()\n",
        "predictions = Dense(2, activation='softmax')\n",
        "\n",
        "model = Sequential([\n",
        "    dnn201,\n",
        "    global_avg_layer,\n",
        "    \n",
        "    BatchNormalization(),\n",
        "    Dropout(0.5),\n",
        "    \n",
        "    Dense(1024, activation='relu'),\n",
        "    Dense(512, activation='relu'),\n",
        "    BatchNormalization(),\n",
        "    Dropout(0.5),\n",
        "    \n",
        "    predictions\n",
        "])\n",
        "\n",
        "model.compile(loss='categorical_crossentropy', optimizer='adam', metrics=['accuracy'])\n",
        "\n",
        "print(model.summary())"
      ],
      "execution_count": 5,
      "outputs": [
        {
          "output_type": "stream",
          "text": [
            "Downloading data from https://storage.googleapis.com/tensorflow/keras-applications/inception_resnet_v2/inception_resnet_v2_weights_tf_dim_ordering_tf_kernels_notop.h5\n",
            "219062272/219055592 [==============================] - 2s 0us/step\n",
            "Model: \"sequential\"\n",
            "_________________________________________________________________\n",
            "Layer (type)                 Output Shape              Param #   \n",
            "=================================================================\n",
            "inception_resnet_v2 (Functio (None, 8, 8, 1536)        54336736  \n",
            "_________________________________________________________________\n",
            "global_average_pooling2d (Gl (None, 1536)              0         \n",
            "_________________________________________________________________\n",
            "batch_normalization_203 (Bat (None, 1536)              6144      \n",
            "_________________________________________________________________\n",
            "dropout (Dropout)            (None, 1536)              0         \n",
            "_________________________________________________________________\n",
            "dense_1 (Dense)              (None, 1024)              1573888   \n",
            "_________________________________________________________________\n",
            "dense_2 (Dense)              (None, 512)               524800    \n",
            "_________________________________________________________________\n",
            "batch_normalization_204 (Bat (None, 512)               2048      \n",
            "_________________________________________________________________\n",
            "dropout_1 (Dropout)          (None, 512)               0         \n",
            "_________________________________________________________________\n",
            "dense (Dense)                (None, 2)                 1026      \n",
            "=================================================================\n",
            "Total params: 56,444,642\n",
            "Trainable params: 2,103,810\n",
            "Non-trainable params: 54,340,832\n",
            "_________________________________________________________________\n",
            "None\n"
          ],
          "name": "stdout"
        }
      ]
    },
    {
      "cell_type": "code",
      "metadata": {
        "colab": {
          "base_uri": "https://localhost:8080/"
        },
        "id": "C4NN774hsG_4",
        "outputId": "5658b95a-0f2e-43bf-d748-b09eaa1fa236"
      },
      "source": [
        "epochs = 10\n",
        "model_hist = model.fit(train_it,\n",
        "#                       validation_data=val_it)\n",
        "                       epochs=epochs, )\n",
        "model.save('InceptionResNetV2')"
      ],
      "execution_count": 6,
      "outputs": [
        {
          "output_type": "stream",
          "text": [
            "Epoch 1/10\n",
            "67/67 [==============================] - 1451s 21s/step - loss: 0.5146 - accuracy: 0.8344\n",
            "Epoch 2/10\n",
            "67/67 [==============================] - 123s 2s/step - loss: 0.1683 - accuracy: 0.9415\n",
            "Epoch 3/10\n",
            "67/67 [==============================] - 124s 2s/step - loss: 0.1869 - accuracy: 0.9335\n",
            "Epoch 4/10\n",
            "67/67 [==============================] - 124s 2s/step - loss: 0.1470 - accuracy: 0.9465\n",
            "Epoch 5/10\n",
            "67/67 [==============================] - 123s 2s/step - loss: 0.1183 - accuracy: 0.9548\n",
            "Epoch 6/10\n",
            "67/67 [==============================] - 124s 2s/step - loss: 0.1264 - accuracy: 0.9591\n",
            "Epoch 7/10\n",
            "67/67 [==============================] - 124s 2s/step - loss: 0.1147 - accuracy: 0.9590\n",
            "Epoch 8/10\n",
            "67/67 [==============================] - 125s 2s/step - loss: 0.1054 - accuracy: 0.9596\n",
            "Epoch 9/10\n",
            "67/67 [==============================] - 124s 2s/step - loss: 0.1092 - accuracy: 0.9600\n",
            "Epoch 10/10\n",
            "67/67 [==============================] - 123s 2s/step - loss: 0.0978 - accuracy: 0.9626\n",
            "INFO:tensorflow:Assets written to: InceptionResNetV2/assets\n"
          ],
          "name": "stdout"
        }
      ]
    },
    {
      "cell_type": "code",
      "metadata": {
        "colab": {
          "base_uri": "https://localhost:8080/"
        },
        "id": "BpM2n5g0kVkL",
        "outputId": "e5c7c3ef-7faf-4bf2-d76c-67fed6172f09"
      },
      "source": [
        "results = model.evaluate(val_it)"
      ],
      "execution_count": 7,
      "outputs": [
        {
          "output_type": "stream",
          "text": [
            "17/17 [==============================] - 324s 20s/step - loss: 0.0747 - accuracy: 0.9737\n"
          ],
          "name": "stdout"
        }
      ]
    }
  ]
}