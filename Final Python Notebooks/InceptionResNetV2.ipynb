{
  "nbformat": 4,
  "nbformat_minor": 0,
  "metadata": {
    "colab": {
      "name": "InceptionResNetV2.ipynb",
      "provenance": [],
      "collapsed_sections": []
    },
    "kernelspec": {
      "name": "python3",
      "display_name": "Python 3"
    },
    "language_info": {
      "name": "python"
    },
    "accelerator": "GPU"
  },
  "cells": [
    {
      "cell_type": "code",
      "metadata": {
        "id": "-8-MFdXaFABE"
      },
      "source": [
        "import numpy as np\n",
        "import pandas as pd\n",
        "import tensorflow as tf\n",
        "from keras.preprocessing.image import ImageDataGenerator\n",
        "\n",
        "from tensorflow.keras.applications import InceptionResNetV2\n",
        "\n",
        "from keras.layers import Activation, Dropout, Flatten, Dense\n",
        "from keras import regularizers, Sequential\n",
        "from keras.layers.normalization import BatchNormalization\n",
        "from keras.models import Model\n",
        "\n",
        "from sklearn import metrics\n",
        "from sklearn.metrics import confusion_matrix, accuracy_score, classification_report\n",
        "from mlxtend.plotting import plot_confusion_matrix\n",
        "\n",
        "import matplotlib.pyplot as plt\n",
        "%matplotlib inline"
      ],
      "execution_count": 1,
      "outputs": []
    },
    {
      "cell_type": "code",
      "metadata": {
        "colab": {
          "base_uri": "https://localhost:8080/"
        },
        "id": "frjg8QPDGJYC",
        "outputId": "df5e8925-6140-4d57-8d6d-a42042255ba7"
      },
      "source": [
        "from google.colab import drive\n",
        "drive.mount('/content/drive')"
      ],
      "execution_count": 2,
      "outputs": [
        {
          "output_type": "stream",
          "text": [
            "Mounted at /content/drive\n"
          ],
          "name": "stdout"
        }
      ]
    },
    {
      "cell_type": "code",
      "metadata": {
        "id": "3aze6P4aGMsN"
      },
      "source": [
        "batch_size = 64"
      ],
      "execution_count": 3,
      "outputs": []
    },
    {
      "cell_type": "code",
      "metadata": {
        "colab": {
          "base_uri": "https://localhost:8080/"
        },
        "id": "F65B0uh-GUUp",
        "outputId": "f502ef8f-5995-4e76-fa0f-b29bbcbbeb6f"
      },
      "source": [
        "# rescale normalizes the data for the images.\n",
        "# Data is split into train and validation sets\n",
        "image_data_gen = ImageDataGenerator(rescale = 1./255,\n",
        "                                    shear_range = 0.2,\n",
        "                                    zoom_range = 0.2,\n",
        "                                    horizontal_flip = True,\n",
        "                                    validation_split=0.2)\n",
        "\n",
        "train_it = image_data_gen.flow_from_directory(directory='/content/drive/MyDrive/TB_Chest_Radiography_Database',\n",
        "                                              target_size=(224, 224),\n",
        "                                              color_mode='rgb',\n",
        "                                              batch_size=batch_size,\n",
        "                                              class_mode='binary',\n",
        "                                              subset='training'\n",
        "                                             )\n",
        "\n",
        "val_it = image_data_gen.flow_from_directory(directory='/content/drive/MyDrive/TB_Chest_Radiography_Database',\n",
        "                                              target_size=(224, 224),\n",
        "                                              color_mode='rgb',\n",
        "                                              batch_size=batch_size,\n",
        "                                              class_mode='binary',\n",
        "                                              shuffle = False,\n",
        "                                              subset='validation'\n",
        "                                             )\n",
        "\n",
        "test_it = image_data_gen.flow_from_directory(directory='/content/drive/MyDrive/TestImages for TB',\n",
        "                                              target_size=(224, 224),\n",
        "                                              batch_size=batch_size,\n",
        "                                              shuffle = False,\n",
        "                                              class_mode='binary',\n",
        "                                             )"
      ],
      "execution_count": 4,
      "outputs": [
        {
          "output_type": "stream",
          "text": [
            "Found 5440 images belonging to 2 classes.\n",
            "Found 1360 images belonging to 2 classes.\n",
            "Found 200 images belonging to 2 classes.\n"
          ],
          "name": "stdout"
        }
      ]
    },
    {
      "cell_type": "markdown",
      "metadata": {
        "id": "-b0_RkA9YSFs"
      },
      "source": [
        ""
      ]
    },
    {
      "cell_type": "code",
      "metadata": {
        "colab": {
          "base_uri": "https://localhost:8080/"
        },
        "id": "YbqM7hbwGWn9",
        "outputId": "68f6754b-dad2-438b-ed64-1d3a890ea4db"
      },
      "source": [
        "dnn201 = tf.keras.applications.InceptionResNetV2(\n",
        "    include_top=False,\n",
        "    input_tensor=None,\n",
        "    input_shape=(224,224,3),\n",
        "    weights = 'imagenet'\n",
        ")\n",
        "\n",
        "dnn201.trainable= False\n",
        "\n",
        "global_avg_layer = tf.keras.layers.GlobalAveragePooling2D()\n",
        "predictions = Dense(1, activation='sigmoid')\n",
        "\n",
        "model = Sequential([\n",
        "    dnn201,\n",
        "    global_avg_layer,\n",
        "    \n",
        "    BatchNormalization(),\n",
        "    Dropout(0.5),\n",
        "    \n",
        "    Dense(512, activation='relu'),\n",
        "    \n",
        "  \n",
        "    BatchNormalization(),\n",
        "    Dropout(0.5),\n",
        "    \n",
        "    predictions\n",
        "])\n",
        "\n",
        "model.compile(loss='binary_crossentropy', optimizer='adam', metrics=['accuracy'])\n",
        "\n",
        "print(model.summary())"
      ],
      "execution_count": 6,
      "outputs": [
        {
          "output_type": "stream",
          "text": [
            "Model: \"sequential_1\"\n",
            "_________________________________________________________________\n",
            "Layer (type)                 Output Shape              Param #   \n",
            "=================================================================\n",
            "inception_resnet_v2 (Functio (None, 5, 5, 1536)        54336736  \n",
            "_________________________________________________________________\n",
            "global_average_pooling2d_1 ( (None, 1536)              0         \n",
            "_________________________________________________________________\n",
            "batch_normalization_408 (Bat (None, 1536)              6144      \n",
            "_________________________________________________________________\n",
            "dropout_2 (Dropout)          (None, 1536)              0         \n",
            "_________________________________________________________________\n",
            "dense_4 (Dense)              (None, 512)               786944    \n",
            "_________________________________________________________________\n",
            "batch_normalization_409 (Bat (None, 512)               2048      \n",
            "_________________________________________________________________\n",
            "dropout_3 (Dropout)          (None, 512)               0         \n",
            "_________________________________________________________________\n",
            "dense_3 (Dense)              (None, 1)                 513       \n",
            "=================================================================\n",
            "Total params: 55,132,385\n",
            "Trainable params: 791,553\n",
            "Non-trainable params: 54,340,832\n",
            "_________________________________________________________________\n",
            "None\n"
          ],
          "name": "stdout"
        }
      ]
    },
    {
      "cell_type": "code",
      "metadata": {
        "colab": {
          "base_uri": "https://localhost:8080/"
        },
        "id": "vCac1-YYI8w6",
        "outputId": "06e1ecf8-a085-42ec-ae09-60ca51f391b6"
      },
      "source": [
        "epochs = 10\n",
        "history = model.fit(train_it,\n",
        "                       validation_data=val_it,\n",
        "                       epochs=epochs)\n"
      ],
      "execution_count": 7,
      "outputs": [
        {
          "output_type": "stream",
          "text": [
            "Epoch 1/10\n",
            "85/85 [==============================] - 1524s 17s/step - loss: 0.4900 - accuracy: 0.8187 - val_loss: 0.6899 - val_accuracy: 0.7199\n",
            "Epoch 2/10\n",
            "85/85 [==============================] - 127s 1s/step - loss: 0.2669 - accuracy: 0.8983 - val_loss: 0.2503 - val_accuracy: 0.8956\n",
            "Epoch 3/10\n",
            "85/85 [==============================] - 126s 1s/step - loss: 0.2384 - accuracy: 0.9037 - val_loss: 0.2101 - val_accuracy: 0.9162\n",
            "Epoch 4/10\n",
            "85/85 [==============================] - 127s 1s/step - loss: 0.2163 - accuracy: 0.9096 - val_loss: 0.1749 - val_accuracy: 0.9346\n",
            "Epoch 5/10\n",
            "85/85 [==============================] - 126s 1s/step - loss: 0.1916 - accuracy: 0.9245 - val_loss: 0.1633 - val_accuracy: 0.9346\n",
            "Epoch 6/10\n",
            "85/85 [==============================] - 127s 2s/step - loss: 0.1941 - accuracy: 0.9259 - val_loss: 0.1362 - val_accuracy: 0.9493\n",
            "Epoch 7/10\n",
            "85/85 [==============================] - 127s 1s/step - loss: 0.1765 - accuracy: 0.9322 - val_loss: 0.1474 - val_accuracy: 0.9397\n",
            "Epoch 8/10\n",
            "85/85 [==============================] - 126s 1s/step - loss: 0.1825 - accuracy: 0.9240 - val_loss: 0.1374 - val_accuracy: 0.9507\n",
            "Epoch 9/10\n",
            "85/85 [==============================] - 126s 1s/step - loss: 0.1669 - accuracy: 0.9292 - val_loss: 0.1524 - val_accuracy: 0.9449\n",
            "Epoch 10/10\n",
            "85/85 [==============================] - 125s 1s/step - loss: 0.1715 - accuracy: 0.9306 - val_loss: 0.1491 - val_accuracy: 0.9404\n"
          ],
          "name": "stdout"
        }
      ]
    },
    {
      "cell_type": "code",
      "metadata": {
        "colab": {
          "base_uri": "https://localhost:8080/",
          "height": 573
        },
        "id": "UOI4273AKx5M",
        "outputId": "3fc9f0fd-819a-4e82-da71-792f54d0bada"
      },
      "source": [
        "epochs= range(1, len(history.history[\"accuracy\"])+1)\n",
        "\n",
        "plt.plot(epochs, history.history[\"accuracy\"], color=\"purple\")\n",
        "plt.plot(epochs, history.history[\"val_accuracy\"], color=\"pink\")\n",
        "plt.xlabel(\"epochs\")\n",
        "plt.ylabel(\"accuracy\")\n",
        "plt.title(\"Accuracy plot\")\n",
        "plt.legend([\"train_acc\", \"val_acc\"])\n",
        "plt.show()\n",
        "\n",
        "plt.plot(epochs, history.history[\"loss\"], color=\"purple\")\n",
        "plt.plot(epochs, history.history[\"val_loss\"], color=\"pink\")\n",
        "plt.xlabel(\"epochs\")\n",
        "plt.ylabel(\"loss\")\n",
        "plt.title(\"Loss plot\")\n",
        "plt.legend([\"train_loss\", \"val_loss\"])\n",
        "plt.show()"
      ],
      "execution_count": 8,
      "outputs": [
        {
          "output_type": "display_data",
          "data": {
            "image/png": "[encoded data removed]",
            "text/plain": [
              "<Figure size 432x288 with 1 Axes>"
            ]
          },
          "metadata": {
            "tags": [],
            "needs_background": "light"
          }
        },
        {
          "output_type": "display_data",
          "data": {
            "image/png": "[encoded data removed]",
            "text/plain": [
              "<Figure size 432x288 with 1 Axes>"
            ]
          },
          "metadata": {
            "tags": [],
            "needs_background": "light"
          }
        }
      ]
    },
    {
      "cell_type": "code",
      "metadata": {
        "colab": {
          "base_uri": "https://localhost:8080/"
        },
        "id": "8UML19qJfuBO",
        "outputId": "eb62f3db-f114-4b4b-c3b4-615f335fed60"
      },
      "source": [
        "prediction= model.predict(val_it, verbose=2)\n",
        "prediction= (prediction > 0.5)\n",
        "prediction"
      ],
      "execution_count": 9,
      "outputs": [
        {
          "output_type": "stream",
          "text": [
            "22/22 - 26s\n"
          ],
          "name": "stdout"
        },
        {
          "output_type": "execute_result",
          "data": {
            "text/plain": [
              "array([[False],\n",
              "       [False],\n",
              "       [False],\n",
              "       ...,\n",
              "       [ True],\n",
              "       [False],\n",
              "       [ True]])"
            ]
          },
          "metadata": {
            "tags": []
          },
          "execution_count": 9
        }
      ]
    },
    {
      "cell_type": "code",
      "metadata": {
        "colab": {
          "base_uri": "https://localhost:8080/"
        },
        "id": "bx5O2651fuKl",
        "outputId": "87c02647-7ce5-4fb4-d308-a890895a45ea"
      },
      "source": [
        "val_labels=val_it.classes\n",
        "val_labels"
      ],
      "execution_count": 10,
      "outputs": [
        {
          "output_type": "execute_result",
          "data": {
            "text/plain": [
              "array([0, 0, 0, ..., 1, 1, 1], dtype=int32)"
            ]
          },
          "metadata": {
            "tags": []
          },
          "execution_count": 10
        }
      ]
    },
    {
      "cell_type": "code",
      "metadata": {
        "colab": {
          "base_uri": "https://localhost:8080/"
        },
        "id": "2R-46RTSfuca",
        "outputId": "6e26e977-2b5e-4dcd-8728-8fd42201f2ba"
      },
      "source": [
        "prediction.shape"
      ],
      "execution_count": 11,
      "outputs": [
        {
          "output_type": "execute_result",
          "data": {
            "text/plain": [
              "(1360, 1)"
            ]
          },
          "metadata": {
            "tags": []
          },
          "execution_count": 11
        }
      ]
    },
    {
      "cell_type": "code",
      "metadata": {
        "colab": {
          "base_uri": "https://localhost:8080/"
        },
        "id": "MG1Vc3Hpf6oP",
        "outputId": "abbc0e2b-0d77-44ee-9020-51ce8d1ab0db"
      },
      "source": [
        "val_labels.shape"
      ],
      "execution_count": 12,
      "outputs": [
        {
          "output_type": "execute_result",
          "data": {
            "text/plain": [
              "(1360,)"
            ]
          },
          "metadata": {
            "tags": []
          },
          "execution_count": 12
        }
      ]
    },
    {
      "cell_type": "code",
      "metadata": {
        "colab": {
          "base_uri": "https://localhost:8080/"
        },
        "id": "FHoY5GWBt9CQ",
        "outputId": "a5029851-5f04-4976-c467-e388f228179e"
      },
      "source": [
        "results = model.evaluate(val_it)"
      ],
      "execution_count": 13,
      "outputs": [
        {
          "output_type": "stream",
          "text": [
            "22/22 [==============================] - 25s 1s/step - loss: 0.1382 - accuracy: 0.9456\n"
          ],
          "name": "stdout"
        }
      ]
    },
    {
      "cell_type": "code",
      "metadata": {
        "colab": {
          "base_uri": "https://localhost:8080/",
          "height": 502
        },
        "id": "gDBGkoKRf61g",
        "outputId": "579bd022-707f-46f6-d5aa-d5d4ed9373db"
      },
      "source": [
        "cm = confusion_matrix(val_it.classes, prediction)\n",
        "plot_confusion_matrix(cm, figsize=(5,5))\n",
        "print(accuracy_score(val_it.classes, prediction))\n",
        "print(classification_report(val_it.classes, prediction))"
      ],
      "execution_count": 14,
      "outputs": [
        {
          "output_type": "stream",
          "text": [
            "0.9463235294117647\n",
            "              precision    recall  f1-score   support\n",
            "\n",
            "           0       0.93      0.97      0.95       680\n",
            "           1       0.97      0.93      0.95       680\n",
            "\n",
            "    accuracy                           0.95      1360\n",
            "   macro avg       0.95      0.95      0.95      1360\n",
            "weighted avg       0.95      0.95      0.95      1360\n",
            "\n"
          ],
          "name": "stdout"
        },
        {
          "output_type": "display_data",
          "data": {
            "image/png": "[encoded data removed]",
            "text/plain": [
              "<Figure size 360x360 with 1 Axes>"
            ]
          },
          "metadata": {
            "tags": [],
            "needs_background": "light"
          }
        }
      ]
    },
    {
      "cell_type": "code",
      "metadata": {
        "colab": {
          "base_uri": "https://localhost:8080/",
          "height": 296
        },
        "id": "ev9hYNTrg1Dk",
        "outputId": "01459da2-0f00-4beb-cc86-9d54d150391e"
      },
      "source": [
        "fpr, tpr, thresholds = metrics.roc_curve(val_labels, prediction)\n",
        "auc = metrics.roc_auc_score(val_labels, prediction)\n",
        "print('AUC: %.3f' % auc)\n",
        "plt.plot(fpr, tpr,marker='.', label='Logistic')\n",
        "plt.xlabel('False Positive Rate')\n",
        "plt.ylabel('True Positive Rate')\n",
        "plt.show()"
      ],
      "execution_count": 15,
      "outputs": [
        {
          "output_type": "stream",
          "text": [
            "AUC: 0.946\n"
          ],
          "name": "stdout"
        },
        {
          "output_type": "display_data",
          "data": {
            "image/png": "[encoded data removed]",
            "text/plain": [
              "<Figure size 432x288 with 1 Axes>"
            ]
          },
          "metadata": {
            "tags": [],
            "needs_background": "light"
          }
        }
      ]
    },
    {
      "cell_type": "markdown",
      "metadata": {
        "id": "WQlLYhIggLJa"
      },
      "source": [
        "Plots for Test Data: 200 images\n"
      ]
    },
    {
      "cell_type": "code",
      "metadata": {
        "colab": {
          "base_uri": "https://localhost:8080/"
        },
        "id": "oE4rsXqJgQbl",
        "outputId": "c682769e-4cff-4825-d912-34d08573359e"
      },
      "source": [
        "prediction1 = model.predict(test_it)\n",
        "prediction1 = (prediction1 > 0.5)\n",
        "prediction1"
      ],
      "execution_count": 16,
      "outputs": [
        {
          "output_type": "execute_result",
          "data": {
            "text/plain": [
              "array([[False],\n",
              "       [False],\n",
              "       [False],\n",
              "       [False],\n",
              "       [False],\n",
              "       [False],\n",
              "       [False],\n",
              "       [False],\n",
              "       [False],\n",
              "       [False],\n",
              "       [False],\n",
              "       [False],\n",
              "       [False],\n",
              "       [False],\n",
              "       [False],\n",
              "       [False],\n",
              "       [False],\n",
              "       [False],\n",
              "       [False],\n",
              "       [False],\n",
              "       [False],\n",
              "       [False],\n",
              "       [False],\n",
              "       [ True],\n",
              "       [False],\n",
              "       [False],\n",
              "       [False],\n",
              "       [False],\n",
              "       [False],\n",
              "       [False],\n",
              "       [False],\n",
              "       [False],\n",
              "       [False],\n",
              "       [False],\n",
              "       [False],\n",
              "       [False],\n",
              "       [False],\n",
              "       [False],\n",
              "       [False],\n",
              "       [False],\n",
              "       [False],\n",
              "       [False],\n",
              "       [False],\n",
              "       [False],\n",
              "       [False],\n",
              "       [False],\n",
              "       [False],\n",
              "       [False],\n",
              "       [False],\n",
              "       [False],\n",
              "       [False],\n",
              "       [False],\n",
              "       [False],\n",
              "       [False],\n",
              "       [False],\n",
              "       [False],\n",
              "       [False],\n",
              "       [False],\n",
              "       [False],\n",
              "       [False],\n",
              "       [False],\n",
              "       [ True],\n",
              "       [False],\n",
              "       [False],\n",
              "       [False],\n",
              "       [False],\n",
              "       [False],\n",
              "       [False],\n",
              "       [False],\n",
              "       [False],\n",
              "       [False],\n",
              "       [False],\n",
              "       [False],\n",
              "       [False],\n",
              "       [False],\n",
              "       [False],\n",
              "       [False],\n",
              "       [False],\n",
              "       [False],\n",
              "       [False],\n",
              "       [False],\n",
              "       [False],\n",
              "       [False],\n",
              "       [False],\n",
              "       [False],\n",
              "       [False],\n",
              "       [False],\n",
              "       [False],\n",
              "       [False],\n",
              "       [False],\n",
              "       [ True],\n",
              "       [False],\n",
              "       [False],\n",
              "       [False],\n",
              "       [False],\n",
              "       [False],\n",
              "       [False],\n",
              "       [False],\n",
              "       [False],\n",
              "       [False],\n",
              "       [ True],\n",
              "       [ True],\n",
              "       [ True],\n",
              "       [ True],\n",
              "       [ True],\n",
              "       [ True],\n",
              "       [ True],\n",
              "       [ True],\n",
              "       [ True],\n",
              "       [ True],\n",
              "       [ True],\n",
              "       [ True],\n",
              "       [ True],\n",
              "       [ True],\n",
              "       [ True],\n",
              "       [ True],\n",
              "       [ True],\n",
              "       [ True],\n",
              "       [ True],\n",
              "       [ True],\n",
              "       [ True],\n",
              "       [ True],\n",
              "       [ True],\n",
              "       [ True],\n",
              "       [ True],\n",
              "       [ True],\n",
              "       [ True],\n",
              "       [ True],\n",
              "       [ True],\n",
              "       [ True],\n",
              "       [ True],\n",
              "       [ True],\n",
              "       [ True],\n",
              "       [ True],\n",
              "       [ True],\n",
              "       [ True],\n",
              "       [ True],\n",
              "       [ True],\n",
              "       [ True],\n",
              "       [False],\n",
              "       [ True],\n",
              "       [ True],\n",
              "       [ True],\n",
              "       [ True],\n",
              "       [ True],\n",
              "       [ True],\n",
              "       [ True],\n",
              "       [ True],\n",
              "       [ True],\n",
              "       [ True],\n",
              "       [ True],\n",
              "       [ True],\n",
              "       [ True],\n",
              "       [ True],\n",
              "       [ True],\n",
              "       [ True],\n",
              "       [ True],\n",
              "       [ True],\n",
              "       [ True],\n",
              "       [ True],\n",
              "       [ True],\n",
              "       [ True],\n",
              "       [ True],\n",
              "       [ True],\n",
              "       [ True],\n",
              "       [ True],\n",
              "       [ True],\n",
              "       [ True],\n",
              "       [ True],\n",
              "       [ True],\n",
              "       [ True],\n",
              "       [ True],\n",
              "       [ True],\n",
              "       [ True],\n",
              "       [ True],\n",
              "       [ True],\n",
              "       [ True],\n",
              "       [ True],\n",
              "       [ True],\n",
              "       [ True],\n",
              "       [ True],\n",
              "       [ True],\n",
              "       [ True],\n",
              "       [ True],\n",
              "       [ True],\n",
              "       [ True],\n",
              "       [ True],\n",
              "       [ True],\n",
              "       [ True],\n",
              "       [ True],\n",
              "       [ True],\n",
              "       [ True],\n",
              "       [ True],\n",
              "       [False],\n",
              "       [ True],\n",
              "       [ True],\n",
              "       [ True],\n",
              "       [ True],\n",
              "       [ True],\n",
              "       [ True]])"
            ]
          },
          "metadata": {
            "tags": []
          },
          "execution_count": 16
        }
      ]
    },
    {
      "cell_type": "code",
      "metadata": {
        "colab": {
          "base_uri": "https://localhost:8080/"
        },
        "id": "bJfJcDtZgXvW",
        "outputId": "48872826-4fad-4d5f-9c63-53ff80ce5b87"
      },
      "source": [
        "test_labels=test_it.classes\n",
        "test_labels"
      ],
      "execution_count": 17,
      "outputs": [
        {
          "output_type": "execute_result",
          "data": {
            "text/plain": [
              "array([0, 0, 0, 0, 0, 0, 0, 0, 0, 0, 0, 0, 0, 0, 0, 0, 0, 0, 0, 0, 0, 0,\n",
              "       0, 0, 0, 0, 0, 0, 0, 0, 0, 0, 0, 0, 0, 0, 0, 0, 0, 0, 0, 0, 0, 0,\n",
              "       0, 0, 0, 0, 0, 0, 0, 0, 0, 0, 0, 0, 0, 0, 0, 0, 0, 0, 0, 0, 0, 0,\n",
              "       0, 0, 0, 0, 0, 0, 0, 0, 0, 0, 0, 0, 0, 0, 0, 0, 0, 0, 0, 0, 0, 0,\n",
              "       0, 0, 0, 0, 0, 0, 0, 0, 0, 0, 0, 0, 1, 1, 1, 1, 1, 1, 1, 1, 1, 1,\n",
              "       1, 1, 1, 1, 1, 1, 1, 1, 1, 1, 1, 1, 1, 1, 1, 1, 1, 1, 1, 1, 1, 1,\n",
              "       1, 1, 1, 1, 1, 1, 1, 1, 1, 1, 1, 1, 1, 1, 1, 1, 1, 1, 1, 1, 1, 1,\n",
              "       1, 1, 1, 1, 1, 1, 1, 1, 1, 1, 1, 1, 1, 1, 1, 1, 1, 1, 1, 1, 1, 1,\n",
              "       1, 1, 1, 1, 1, 1, 1, 1, 1, 1, 1, 1, 1, 1, 1, 1, 1, 1, 1, 1, 1, 1,\n",
              "       1, 1], dtype=int32)"
            ]
          },
          "metadata": {
            "tags": []
          },
          "execution_count": 17
        }
      ]
    },
    {
      "cell_type": "code",
      "metadata": {
        "colab": {
          "base_uri": "https://localhost:8080/"
        },
        "id": "yO0cxp8OgnhY",
        "outputId": "af78ff61-f95f-4714-fc07-561949008d4c"
      },
      "source": [
        "prediction1.shape"
      ],
      "execution_count": 18,
      "outputs": [
        {
          "output_type": "execute_result",
          "data": {
            "text/plain": [
              "(200, 1)"
            ]
          },
          "metadata": {
            "tags": []
          },
          "execution_count": 18
        }
      ]
    },
    {
      "cell_type": "code",
      "metadata": {
        "colab": {
          "base_uri": "https://localhost:8080/"
        },
        "id": "veGWx0eFgp3t",
        "outputId": "d15df645-9c94-4a73-a2dd-72b4012f9ea3"
      },
      "source": [
        "test_labels.shape"
      ],
      "execution_count": 19,
      "outputs": [
        {
          "output_type": "execute_result",
          "data": {
            "text/plain": [
              "(200,)"
            ]
          },
          "metadata": {
            "tags": []
          },
          "execution_count": 19
        }
      ]
    },
    {
      "cell_type": "code",
      "metadata": {
        "colab": {
          "base_uri": "https://localhost:8080/"
        },
        "id": "rYQcA3bkxwvm",
        "outputId": "f398dc09-e705-4f53-ad88-2f084a3feeb6"
      },
      "source": [
        "results = model.evaluate(test_it)"
      ],
      "execution_count": 20,
      "outputs": [
        {
          "output_type": "stream",
          "text": [
            "4/4 [==============================] - 4s 717ms/step - loss: 0.0938 - accuracy: 0.9700\n"
          ],
          "name": "stdout"
        }
      ]
    },
    {
      "cell_type": "code",
      "metadata": {
        "colab": {
          "base_uri": "https://localhost:8080/",
          "height": 502
        },
        "id": "qsCjlHmrgtLl",
        "outputId": "633fd940-063b-4876-ad1f-4b3ddb362a22"
      },
      "source": [
        "cm1 = confusion_matrix(test_it.classes, prediction1)\n",
        "plot_confusion_matrix(cm1, figsize=(5,5))\n",
        "print(accuracy_score(test_it.classes, prediction1))\n",
        "print(classification_report(test_it.classes, prediction1))"
      ],
      "execution_count": 21,
      "outputs": [
        {
          "output_type": "stream",
          "text": [
            "0.975\n",
            "              precision    recall  f1-score   support\n",
            "\n",
            "           0       0.98      0.97      0.97       100\n",
            "           1       0.97      0.98      0.98       100\n",
            "\n",
            "    accuracy                           0.97       200\n",
            "   macro avg       0.98      0.97      0.97       200\n",
            "weighted avg       0.98      0.97      0.97       200\n",
            "\n"
          ],
          "name": "stdout"
        },
        {
          "output_type": "display_data",
          "data": {
            "image/png": "[encoded data removed]",
            "text/plain": [
              "<Figure size 360x360 with 1 Axes>"
            ]
          },
          "metadata": {
            "tags": [],
            "needs_background": "light"
          }
        }
      ]
    },
    {
      "cell_type": "code",
      "metadata": {
        "colab": {
          "base_uri": "https://localhost:8080/",
          "height": 296
        },
        "id": "1xghHu3yg0k_",
        "outputId": "fe12f12c-3687-400f-ef60-fc0d95d7b0f2"
      },
      "source": [
        "fpr, tpr, thresholds = metrics.roc_curve(test_labels, prediction1)\n",
        "auc = metrics.roc_auc_score(test_labels, prediction1)\n",
        "print('AUC: %.3f' % auc)\n",
        "plt.plot(fpr, tpr,marker='.', label='Logistic')\n",
        "plt.xlabel('False Positive Rate')\n",
        "plt.ylabel('True Positive Rate')\n",
        "plt.show()"
      ],
      "execution_count": 22,
      "outputs": [
        {
          "output_type": "stream",
          "text": [
            "AUC: 0.975\n"
          ],
          "name": "stdout"
        },
        {
          "output_type": "display_data",
          "data": {
            "image/png": "[encoded data removed]",
            "text/plain": [
              "<Figure size 432x288 with 1 Axes>"
            ]
          },
          "metadata": {
            "tags": [],
            "needs_background": "light"
          }
        }
      ]
    },
    {
      "cell_type": "code",
      "metadata": {
        "id": "0SzJQS-dK13P"
      },
      "source": [
        "model.save('/content/drive/MyDrive/InceptionResNetV2.h5')"
      ],
      "execution_count": 23,
      "outputs": []
    }
  ]
}