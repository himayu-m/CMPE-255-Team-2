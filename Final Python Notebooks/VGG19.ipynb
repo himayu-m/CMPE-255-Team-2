{
  "nbformat": 4,
  "nbformat_minor": 0,
  "metadata": {
    "accelerator": "GPU",
    "colab": {
      "name": "VGG19.ipynb",
      "provenance": [],
      "collapsed_sections": []
    },
    "kernelspec": {
      "display_name": "Python 3",
      "name": "python3"
    },
    "language_info": {
      "name": "python"
    }
  },
  "cells": [
    {
      "cell_type": "code",
      "metadata": {
        "id": "wI7SqibKy2_n"
      },
      "source": [
        "import numpy as np\n",
        "import pandas as pd\n",
        "import tensorflow as tf\n",
        "from keras.preprocessing.image import ImageDataGenerator\n",
        "\n",
        "from tensorflow.keras.applications import VGG19\n",
        "\n",
        "from keras.layers import Activation, Dropout, Flatten, Dense\n",
        "from keras import regularizers, Sequential\n",
        "from keras.layers.normalization import BatchNormalization\n",
        "from keras.models import Model\n",
        "\n"
      ],
      "execution_count": null,
      "outputs": []
    },
    {
      "cell_type": "code",
      "metadata": {
        "colab": {
          "base_uri": "https://localhost:8080/"
        },
        "id": "BgWFovxn-JP2",
        "outputId": "d6746cb0-ea65-4396-a51b-7db71c22d079"
      },
      "source": [
        "from google.colab import drive\n",
        "drive.mount('/content/drive')"
      ],
      "execution_count": null,
      "outputs": [
        {
          "output_type": "stream",
          "text": [
            "Drive already mounted at /content/drive; to attempt to forcibly remount, call drive.mount(\"/content/drive\", force_remount=True).\n"
          ],
          "name": "stdout"
        }
      ]
    },
    {
      "cell_type": "code",
      "metadata": {
        "id": "QgG8Jozv-bon"
      },
      "source": [
        "batch_size = 64"
      ],
      "execution_count": null,
      "outputs": []
    },
    {
      "cell_type": "code",
      "metadata": {
        "colab": {
          "base_uri": "https://localhost:8080/"
        },
        "id": "xEXNhBuq-kms",
        "outputId": "fadf74e8-0bc3-4f67-f6c1-55cb2f32073d"
      },
      "source": [
        "# rescale normalizes the data for the images.\n",
        "# Data is split into train and validation sets\n",
        "image_data_gen = ImageDataGenerator(rescale = 1./255,\n",
        "                                    shear_range = 0.2,\n",
        "                                    zoom_range = 0.2,\n",
        "                                    horizontal_flip = True,\n",
        "                                    validation_split=0.2)\n",
        "\n",
        "train_it = image_data_gen.flow_from_directory(directory='/content/drive/MyDrive/TB_Chest_Radiography_Database',\n",
        "                                              target_size=(224, 224),\n",
        "                                              color_mode='rgb',\n",
        "                                              batch_size=batch_size,\n",
        "                                              class_mode='binary',\n",
        "                                              subset='training'\n",
        "                                             )\n",
        "\n",
        "val_it = image_data_gen.flow_from_directory(directory='/content/drive/MyDrive/TB_Chest_Radiography_Database',\n",
        "                                              target_size=(224, 224),\n",
        "                                              color_mode='rgb',\n",
        "                                              batch_size=batch_size,\n",
        "                                              class_mode='binary',\n",
        "                                              shuffle = False,\n",
        "                                              subset='validation'\n",
        "                                             )\n",
        "\n",
        "test_it = image_data_gen.flow_from_directory(directory='/content/drive/MyDrive/TestImages for TB',\n",
        "                                              target_size=(224, 224),\n",
        "                                              batch_size=batch_size,\n",
        "                                              shuffle = False,\n",
        "                                              class_mode='binary',\n",
        "                                             )"
      ],
      "execution_count": null,
      "outputs": [
        {
          "output_type": "stream",
          "text": [
            "Found 5440 images belonging to 2 classes.\n",
            "Found 1360 images belonging to 2 classes.\n",
            "Found 200 images belonging to 2 classes.\n"
          ],
          "name": "stdout"
        }
      ]
    },
    {
      "cell_type": "code",
      "metadata": {
        "colab": {
          "base_uri": "https://localhost:8080/"
        },
        "id": "XyzXOP1wASFm",
        "outputId": "88874046-b347-4eb2-f6ec-9ec20b67c929"
      },
      "source": [
        "dnn201 = tf.keras.applications.VGG19(\n",
        "    include_top=False,\n",
        "    input_tensor=None,\n",
        "    input_shape=(224,224,3),\n",
        "    weights = 'imagenet'\n",
        ")\n",
        "\n",
        "dnn201.trainable= False\n",
        "\n",
        "global_avg_layer = tf.keras.layers.GlobalAveragePooling2D()\n",
        "predictions = Dense(1, activation='sigmoid')\n",
        "\n",
        "model = Sequential([\n",
        "    dnn201,\n",
        "    global_avg_layer,\n",
        "    \n",
        "    BatchNormalization(),\n",
        "    Dropout(0.5),\n",
        "    \n",
        "    Dense(1024, activation='relu'),\n",
        "    Dense(512, activation='relu'),\n",
        "  \n",
        "    BatchNormalization(),\n",
        "    Dropout(0.5),\n",
        "    \n",
        "    predictions\n",
        "])\n",
        "\n",
        "model.compile(loss='binary_crossentropy', optimizer='adam', metrics=['accuracy'])\n",
        "\n",
        "print(model.summary())"
      ],
      "execution_count": null,
      "outputs": [
        {
          "output_type": "stream",
          "text": [
            "Downloading data from https://storage.googleapis.com/tensorflow/keras-applications/vgg19/vgg19_weights_tf_dim_ordering_tf_kernels_notop.h5\n",
            "80142336/80134624 [==============================] - 0s 0us/step\n",
            "Model: \"sequential\"\n",
            "_________________________________________________________________\n",
            "Layer (type)                 Output Shape              Param #   \n",
            "=================================================================\n",
            "vgg19 (Functional)           (None, 7, 7, 512)         20024384  \n",
            "_________________________________________________________________\n",
            "global_average_pooling2d (Gl (None, 512)               0         \n",
            "_________________________________________________________________\n",
            "batch_normalization (BatchNo (None, 512)               2048      \n",
            "_________________________________________________________________\n",
            "dropout (Dropout)            (None, 512)               0         \n",
            "_________________________________________________________________\n",
            "dense_1 (Dense)              (None, 1024)              525312    \n",
            "_________________________________________________________________\n",
            "dense_2 (Dense)              (None, 512)               524800    \n",
            "_________________________________________________________________\n",
            "batch_normalization_1 (Batch (None, 512)               2048      \n",
            "_________________________________________________________________\n",
            "dropout_1 (Dropout)          (None, 512)               0         \n",
            "_________________________________________________________________\n",
            "dense (Dense)                (None, 1)                 513       \n",
            "=================================================================\n",
            "Total params: 21,079,105\n",
            "Trainable params: 1,052,673\n",
            "Non-trainable params: 20,026,432\n",
            "_________________________________________________________________\n",
            "None\n"
          ],
          "name": "stdout"
        }
      ]
    },
    {
      "cell_type": "code",
      "metadata": {
        "colab": {
          "base_uri": "https://localhost:8080/"
        },
        "id": "GLELSAb6AlXt",
        "outputId": "1d72e14e-8a49-47eb-81b7-6cdbef1450c9"
      },
      "source": [
        "epochs = 15\n",
        "history = model.fit(train_it,\n",
        "                       validation_data=val_it,\n",
        "                       epochs=epochs)"
      ],
      "execution_count": null,
      "outputs": [
        {
          "output_type": "stream",
          "text": [
            "Epoch 1/15\n",
            "85/85 [==============================] - 1825s 21s/step - loss: 0.4913 - accuracy: 0.8089 - val_loss: 0.5263 - val_accuracy: 0.8632\n",
            "Epoch 2/15\n",
            "85/85 [==============================] - 125s 1s/step - loss: 0.2931 - accuracy: 0.8895 - val_loss: 0.4323 - val_accuracy: 0.8287\n",
            "Epoch 3/15\n",
            "85/85 [==============================] - 124s 1s/step - loss: 0.2345 - accuracy: 0.9053 - val_loss: 0.3596 - val_accuracy: 0.8544\n",
            "Epoch 4/15\n",
            "85/85 [==============================] - 124s 1s/step - loss: 0.2030 - accuracy: 0.9227 - val_loss: 0.2741 - val_accuracy: 0.8890\n",
            "Epoch 5/15\n",
            "85/85 [==============================] - 124s 1s/step - loss: 0.1964 - accuracy: 0.9164 - val_loss: 0.2215 - val_accuracy: 0.9059\n",
            "Epoch 6/15\n",
            "85/85 [==============================] - 124s 1s/step - loss: 0.1845 - accuracy: 0.9334 - val_loss: 0.1601 - val_accuracy: 0.9449\n",
            "Epoch 7/15\n",
            "85/85 [==============================] - 124s 1s/step - loss: 0.1735 - accuracy: 0.9305 - val_loss: 0.1611 - val_accuracy: 0.9346\n",
            "Epoch 8/15\n",
            "85/85 [==============================] - 124s 1s/step - loss: 0.1576 - accuracy: 0.9299 - val_loss: 0.1313 - val_accuracy: 0.9471\n",
            "Epoch 9/15\n",
            "85/85 [==============================] - 124s 1s/step - loss: 0.1721 - accuracy: 0.9288 - val_loss: 0.1139 - val_accuracy: 0.9588\n",
            "Epoch 10/15\n",
            "85/85 [==============================] - 124s 1s/step - loss: 0.1598 - accuracy: 0.9385 - val_loss: 0.1306 - val_accuracy: 0.9463\n",
            "Epoch 11/15\n",
            "85/85 [==============================] - 124s 1s/step - loss: 0.1686 - accuracy: 0.9286 - val_loss: 0.1185 - val_accuracy: 0.9559\n",
            "Epoch 12/15\n",
            "85/85 [==============================] - 124s 1s/step - loss: 0.1491 - accuracy: 0.9390 - val_loss: 0.1206 - val_accuracy: 0.9500\n",
            "Epoch 13/15\n",
            "85/85 [==============================] - 123s 1s/step - loss: 0.1584 - accuracy: 0.9386 - val_loss: 0.1187 - val_accuracy: 0.9551\n",
            "Epoch 14/15\n",
            "85/85 [==============================] - 124s 1s/step - loss: 0.1564 - accuracy: 0.9454 - val_loss: 0.1160 - val_accuracy: 0.9493\n",
            "Epoch 15/15\n",
            "85/85 [==============================] - 124s 1s/step - loss: 0.1576 - accuracy: 0.9368 - val_loss: 0.1036 - val_accuracy: 0.9610\n"
          ],
          "name": "stdout"
        }
      ]
    },
    {
      "cell_type": "code",
      "metadata": {
        "id": "88LrkMNygiSQ"
      },
      "source": [
        ""
      ],
      "execution_count": null,
      "outputs": []
    },
    {
      "cell_type": "code",
      "metadata": {
        "id": "r3ha7ZPciC9_"
      },
      "source": [
        ""
      ],
      "execution_count": null,
      "outputs": []
    },
    {
      "cell_type": "code",
      "metadata": {
        "colab": {
          "base_uri": "https://localhost:8080/",
          "height": 573
        },
        "id": "61rt-mrhPYWe",
        "outputId": "ca8c5a0d-cc28-4553-e8da-b80e0ec40cb0"
      },
      "source": [
        "import matplotlib.pyplot as plt\n",
        "import matplotlib.image as mpimg\n",
        "from matplotlib.image import imread\n",
        "%matplotlib inline\n",
        "\n",
        "epochs= range(1, len(history.history[\"accuracy\"])+1)\n",
        "\n",
        "plt.plot(epochs, history.history[\"accuracy\"], color=\"purple\")\n",
        "plt.plot(epochs, history.history[\"val_accuracy\"], color=\"pink\")\n",
        "plt.xlabel(\"epochs\")\n",
        "plt.ylabel(\"accuracy\")\n",
        "plt.title(\"Accuracy plot\")\n",
        "plt.legend([\"train_acc\", \"val_acc\"])\n",
        "plt.show()\n",
        "\n",
        "plt.plot(epochs, history.history[\"loss\"], color=\"purple\")\n",
        "plt.plot(epochs, history.history[\"val_loss\"], color=\"pink\")\n",
        "plt.xlabel(\"epochs\")\n",
        "plt.ylabel(\"loss\")\n",
        "plt.title(\"Loss plot\")\n",
        "plt.legend([\"train_loss\", \"val_loss\"])\n",
        "plt.show()"
      ],
      "execution_count": null,
      "outputs": [
        {
          "output_type": "display_data",
          "data": {
            "image/png": "[encoded data removed]",
            "text/plain": [
              "<Figure size 432x288 with 1 Axes>"
            ]
          },
          "metadata": {
            "tags": [],
            "needs_background": "light"
          }
        },
        {
          "output_type": "display_data",
          "data": {
            "image/png": "[encoded data removed]",
            "text/plain": [
              "<Figure size 432x288 with 1 Axes>"
            ]
          },
          "metadata": {
            "tags": [],
            "needs_background": "light"
          }
        }
      ]
    },
    {
      "cell_type": "code",
      "metadata": {
        "colab": {
          "base_uri": "https://localhost:8080/"
        },
        "id": "gqSuZn96QEt3",
        "outputId": "c45cbbaa-7a36-439a-a9ea-54e00b313c2b"
      },
      "source": [
        "prediction= model.predict(val_it, verbose=2)\n",
        "prediction= (prediction > 0.5)\n",
        "prediction"
      ],
      "execution_count": null,
      "outputs": [
        {
          "output_type": "stream",
          "text": [
            "22/22 - 22s\n"
          ],
          "name": "stdout"
        },
        {
          "output_type": "execute_result",
          "data": {
            "text/plain": [
              "array([[False],\n",
              "       [False],\n",
              "       [False],\n",
              "       ...,\n",
              "       [ True],\n",
              "       [ True],\n",
              "       [False]])"
            ]
          },
          "metadata": {
            "tags": []
          },
          "execution_count": 7
        }
      ]
    },
    {
      "cell_type": "code",
      "metadata": {
        "colab": {
          "base_uri": "https://localhost:8080/"
        },
        "id": "QsoAIsc7QWfk",
        "outputId": "4e80175f-b714-4f05-efc1-91a76b38b0ac"
      },
      "source": [
        "val_labels=val_it.classes\n",
        "val_labels"
      ],
      "execution_count": null,
      "outputs": [
        {
          "output_type": "execute_result",
          "data": {
            "text/plain": [
              "array([0, 0, 0, ..., 1, 1, 1], dtype=int32)"
            ]
          },
          "metadata": {
            "tags": []
          },
          "execution_count": 8
        }
      ]
    },
    {
      "cell_type": "code",
      "metadata": {
        "colab": {
          "base_uri": "https://localhost:8080/"
        },
        "id": "U_xGUgE3QkKp",
        "outputId": "ec8da2b3-6096-48a4-abe0-b513899346b8"
      },
      "source": [
        "prediction.shape"
      ],
      "execution_count": null,
      "outputs": [
        {
          "output_type": "execute_result",
          "data": {
            "text/plain": [
              "(1360, 1)"
            ]
          },
          "metadata": {
            "tags": []
          },
          "execution_count": 9
        }
      ]
    },
    {
      "cell_type": "code",
      "metadata": {
        "colab": {
          "base_uri": "https://localhost:8080/"
        },
        "id": "f_3PWKGBQl_5",
        "outputId": "ef4944ca-26ad-4551-9fd9-11a33696b968"
      },
      "source": [
        "val_labels.shape"
      ],
      "execution_count": null,
      "outputs": [
        {
          "output_type": "execute_result",
          "data": {
            "text/plain": [
              "(1360,)"
            ]
          },
          "metadata": {
            "tags": []
          },
          "execution_count": 10
        }
      ]
    },
    {
      "cell_type": "code",
      "metadata": {
        "id": "nHEByp98QxM9",
        "colab": {
          "base_uri": "https://localhost:8080/"
        },
        "outputId": "4ea81d7a-6f13-467f-f582-6e7583c8f9f3"
      },
      "source": [
        "results = model.evaluate(val_it)"
      ],
      "execution_count": null,
      "outputs": [
        {
          "output_type": "stream",
          "text": [
            "22/22 [==============================] - 24s 1s/step - loss: 0.1030 - accuracy: 0.9618\n"
          ],
          "name": "stdout"
        }
      ]
    },
    {
      "cell_type": "code",
      "metadata": {
        "colab": {
          "base_uri": "https://localhost:8080/",
          "height": 504
        },
        "id": "Bzi0UoZmBgWS",
        "outputId": "22c7c0ff-cb6e-4f08-801a-216606a4fabf"
      },
      "source": [
        "from sklearn import metrics\n",
        "from sklearn.metrics import confusion_matrix, accuracy_score, classification_report\n",
        "from mlxtend.plotting import plot_confusion_matrix\n",
        "\n",
        "cm = confusion_matrix(val_it.classes, prediction)\n",
        "plot_confusion_matrix(cm, figsize=(5,5))\n",
        "print(accuracy_score(val_it.classes, prediction))\n",
        "print(classification_report(val_it.classes, prediction))"
      ],
      "execution_count": null,
      "outputs": [
        {
          "output_type": "stream",
          "text": [
            "0.9595588235294118\n",
            "              precision    recall  f1-score   support\n",
            "\n",
            "           0       0.95      0.97      0.96       680\n",
            "           1       0.97      0.95      0.96       680\n",
            "\n",
            "    accuracy                           0.96      1360\n",
            "   macro avg       0.96      0.96      0.96      1360\n",
            "weighted avg       0.96      0.96      0.96      1360\n",
            "\n"
          ],
          "name": "stdout"
        },
        {
          "output_type": "display_data",
          "data": {
            "image/png": "[encoded data removed]",
            "text/plain": [
              "<Figure size 360x360 with 1 Axes>"
            ]
          },
          "metadata": {
            "tags": [],
            "needs_background": "light"
          }
        }
      ]
    },
    {
      "cell_type": "code",
      "metadata": {
        "colab": {
          "base_uri": "https://localhost:8080/",
          "height": 296
        },
        "id": "dOU5FSaTBx4A",
        "outputId": "a56ddc27-a9b4-47c2-bad4-d468b19ee2ea"
      },
      "source": [
        "fpr, tpr, thresholds = metrics.roc_curve(val_labels, prediction)\n",
        "auc = metrics.roc_auc_score(val_labels, prediction)\n",
        "print('AUC: %.3f' % auc)\n",
        "plt.plot(fpr, tpr,marker='.', label='Logistic')\n",
        "plt.xlabel('False Positive Rate')\n",
        "plt.ylabel('True Positive Rate')\n",
        "plt.show()"
      ],
      "execution_count": null,
      "outputs": [
        {
          "output_type": "stream",
          "text": [
            "AUC: 0.960\n"
          ],
          "name": "stdout"
        },
        {
          "output_type": "display_data",
          "data": {
            "image/png": "[encoded data removed]",
            "text/plain": [
              "<Figure size 432x288 with 1 Axes>"
            ]
          },
          "metadata": {
            "tags": [],
            "needs_background": "light"
          }
        }
      ]
    },
    {
      "cell_type": "code",
      "metadata": {
        "colab": {
          "base_uri": "https://localhost:8080/"
        },
        "id": "j3QU3J3HB3sZ",
        "outputId": "ad55a268-b2e9-44fe-adb6-a91731899f59"
      },
      "source": [
        "prediction1 = model.predict(test_it)\n",
        "prediction1 = (prediction1 > 0.5)\n",
        "prediction1"
      ],
      "execution_count": null,
      "outputs": [
        {
          "output_type": "execute_result",
          "data": {
            "text/plain": [
              "array([[False],\n",
              "       [False],\n",
              "       [False],\n",
              "       [False],\n",
              "       [False],\n",
              "       [False],\n",
              "       [False],\n",
              "       [False],\n",
              "       [False],\n",
              "       [False],\n",
              "       [False],\n",
              "       [False],\n",
              "       [False],\n",
              "       [False],\n",
              "       [False],\n",
              "       [False],\n",
              "       [False],\n",
              "       [False],\n",
              "       [False],\n",
              "       [False],\n",
              "       [False],\n",
              "       [False],\n",
              "       [False],\n",
              "       [False],\n",
              "       [False],\n",
              "       [False],\n",
              "       [False],\n",
              "       [False],\n",
              "       [False],\n",
              "       [False],\n",
              "       [False],\n",
              "       [False],\n",
              "       [False],\n",
              "       [False],\n",
              "       [False],\n",
              "       [False],\n",
              "       [False],\n",
              "       [False],\n",
              "       [ True],\n",
              "       [False],\n",
              "       [False],\n",
              "       [False],\n",
              "       [False],\n",
              "       [False],\n",
              "       [False],\n",
              "       [False],\n",
              "       [False],\n",
              "       [False],\n",
              "       [False],\n",
              "       [False],\n",
              "       [False],\n",
              "       [False],\n",
              "       [False],\n",
              "       [False],\n",
              "       [False],\n",
              "       [False],\n",
              "       [False],\n",
              "       [False],\n",
              "       [False],\n",
              "       [False],\n",
              "       [False],\n",
              "       [False],\n",
              "       [False],\n",
              "       [False],\n",
              "       [False],\n",
              "       [False],\n",
              "       [False],\n",
              "       [False],\n",
              "       [False],\n",
              "       [False],\n",
              "       [False],\n",
              "       [False],\n",
              "       [False],\n",
              "       [False],\n",
              "       [False],\n",
              "       [False],\n",
              "       [False],\n",
              "       [False],\n",
              "       [ True],\n",
              "       [False],\n",
              "       [False],\n",
              "       [False],\n",
              "       [False],\n",
              "       [False],\n",
              "       [False],\n",
              "       [False],\n",
              "       [False],\n",
              "       [False],\n",
              "       [False],\n",
              "       [False],\n",
              "       [False],\n",
              "       [False],\n",
              "       [False],\n",
              "       [False],\n",
              "       [False],\n",
              "       [False],\n",
              "       [False],\n",
              "       [False],\n",
              "       [False],\n",
              "       [False],\n",
              "       [ True],\n",
              "       [ True],\n",
              "       [ True],\n",
              "       [ True],\n",
              "       [ True],\n",
              "       [ True],\n",
              "       [ True],\n",
              "       [ True],\n",
              "       [ True],\n",
              "       [ True],\n",
              "       [ True],\n",
              "       [ True],\n",
              "       [ True],\n",
              "       [ True],\n",
              "       [ True],\n",
              "       [ True],\n",
              "       [ True],\n",
              "       [ True],\n",
              "       [ True],\n",
              "       [False],\n",
              "       [ True],\n",
              "       [ True],\n",
              "       [ True],\n",
              "       [ True],\n",
              "       [ True],\n",
              "       [ True],\n",
              "       [ True],\n",
              "       [ True],\n",
              "       [ True],\n",
              "       [ True],\n",
              "       [ True],\n",
              "       [ True],\n",
              "       [ True],\n",
              "       [ True],\n",
              "       [ True],\n",
              "       [ True],\n",
              "       [ True],\n",
              "       [ True],\n",
              "       [ True],\n",
              "       [ True],\n",
              "       [ True],\n",
              "       [ True],\n",
              "       [ True],\n",
              "       [ True],\n",
              "       [ True],\n",
              "       [ True],\n",
              "       [ True],\n",
              "       [ True],\n",
              "       [ True],\n",
              "       [ True],\n",
              "       [ True],\n",
              "       [ True],\n",
              "       [ True],\n",
              "       [ True],\n",
              "       [ True],\n",
              "       [ True],\n",
              "       [ True],\n",
              "       [ True],\n",
              "       [ True],\n",
              "       [ True],\n",
              "       [ True],\n",
              "       [ True],\n",
              "       [ True],\n",
              "       [ True],\n",
              "       [ True],\n",
              "       [ True],\n",
              "       [ True],\n",
              "       [ True],\n",
              "       [ True],\n",
              "       [ True],\n",
              "       [ True],\n",
              "       [ True],\n",
              "       [ True],\n",
              "       [ True],\n",
              "       [ True],\n",
              "       [ True],\n",
              "       [ True],\n",
              "       [ True],\n",
              "       [ True],\n",
              "       [ True],\n",
              "       [ True],\n",
              "       [ True],\n",
              "       [ True],\n",
              "       [ True],\n",
              "       [ True],\n",
              "       [ True],\n",
              "       [ True],\n",
              "       [ True],\n",
              "       [ True],\n",
              "       [ True],\n",
              "       [ True],\n",
              "       [ True],\n",
              "       [ True],\n",
              "       [ True],\n",
              "       [ True],\n",
              "       [ True],\n",
              "       [ True],\n",
              "       [ True],\n",
              "       [ True],\n",
              "       [ True]])"
            ]
          },
          "metadata": {
            "tags": []
          },
          "execution_count": 14
        }
      ]
    },
    {
      "cell_type": "code",
      "metadata": {
        "colab": {
          "base_uri": "https://localhost:8080/"
        },
        "id": "oIThFIf3COjg",
        "outputId": "4ae707dd-b6a3-4e36-e703-bdc97f1acf7e"
      },
      "source": [
        "test_labels=test_it.classes\n",
        "test_labels"
      ],
      "execution_count": null,
      "outputs": [
        {
          "output_type": "execute_result",
          "data": {
            "text/plain": [
              "array([0, 0, 0, 0, 0, 0, 0, 0, 0, 0, 0, 0, 0, 0, 0, 0, 0, 0, 0, 0, 0, 0,\n",
              "       0, 0, 0, 0, 0, 0, 0, 0, 0, 0, 0, 0, 0, 0, 0, 0, 0, 0, 0, 0, 0, 0,\n",
              "       0, 0, 0, 0, 0, 0, 0, 0, 0, 0, 0, 0, 0, 0, 0, 0, 0, 0, 0, 0, 0, 0,\n",
              "       0, 0, 0, 0, 0, 0, 0, 0, 0, 0, 0, 0, 0, 0, 0, 0, 0, 0, 0, 0, 0, 0,\n",
              "       0, 0, 0, 0, 0, 0, 0, 0, 0, 0, 0, 0, 1, 1, 1, 1, 1, 1, 1, 1, 1, 1,\n",
              "       1, 1, 1, 1, 1, 1, 1, 1, 1, 1, 1, 1, 1, 1, 1, 1, 1, 1, 1, 1, 1, 1,\n",
              "       1, 1, 1, 1, 1, 1, 1, 1, 1, 1, 1, 1, 1, 1, 1, 1, 1, 1, 1, 1, 1, 1,\n",
              "       1, 1, 1, 1, 1, 1, 1, 1, 1, 1, 1, 1, 1, 1, 1, 1, 1, 1, 1, 1, 1, 1,\n",
              "       1, 1, 1, 1, 1, 1, 1, 1, 1, 1, 1, 1, 1, 1, 1, 1, 1, 1, 1, 1, 1, 1,\n",
              "       1, 1], dtype=int32)"
            ]
          },
          "metadata": {
            "tags": []
          },
          "execution_count": 15
        }
      ]
    },
    {
      "cell_type": "code",
      "metadata": {
        "colab": {
          "base_uri": "https://localhost:8080/"
        },
        "id": "2JRhQKezCUJo",
        "outputId": "d2184049-2a82-48b4-9d27-20730ccef22d"
      },
      "source": [
        "prediction1.shape"
      ],
      "execution_count": null,
      "outputs": [
        {
          "output_type": "execute_result",
          "data": {
            "text/plain": [
              "(200, 1)"
            ]
          },
          "metadata": {
            "tags": []
          },
          "execution_count": 16
        }
      ]
    },
    {
      "cell_type": "code",
      "metadata": {
        "colab": {
          "base_uri": "https://localhost:8080/"
        },
        "id": "MX-SnrkUCYpv",
        "outputId": "02ebb2d3-5cb0-42b9-9e53-ecb54d58fada"
      },
      "source": [
        "test_labels.shape"
      ],
      "execution_count": null,
      "outputs": [
        {
          "output_type": "execute_result",
          "data": {
            "text/plain": [
              "(200,)"
            ]
          },
          "metadata": {
            "tags": []
          },
          "execution_count": 17
        }
      ]
    },
    {
      "cell_type": "code",
      "metadata": {
        "colab": {
          "base_uri": "https://localhost:8080/"
        },
        "id": "flhMwBYCCc2n",
        "outputId": "637c9195-dcf4-4e13-ae8e-14d08e1e1f33"
      },
      "source": [
        "results = model.evaluate(test_it)"
      ],
      "execution_count": null,
      "outputs": [
        {
          "output_type": "stream",
          "text": [
            "4/4 [==============================] - 4s 733ms/step - loss: 0.0412 - accuracy: 0.9900\n"
          ],
          "name": "stdout"
        }
      ]
    },
    {
      "cell_type": "code",
      "metadata": {
        "colab": {
          "base_uri": "https://localhost:8080/",
          "height": 504
        },
        "id": "tnAzHbrFCjM3",
        "outputId": "ea3953df-375f-4eeb-c11e-979e7eb7954f"
      },
      "source": [
        "cm1 = confusion_matrix(test_it.classes, prediction1)\n",
        "plot_confusion_matrix(cm1, figsize=(5,5))\n",
        "print(accuracy_score(test_it.classes, prediction1))\n",
        "print(classification_report(test_it.classes, prediction1))"
      ],
      "execution_count": null,
      "outputs": [
        {
          "output_type": "stream",
          "text": [
            "0.985\n",
            "              precision    recall  f1-score   support\n",
            "\n",
            "           0       0.99      0.98      0.98       100\n",
            "           1       0.98      0.99      0.99       100\n",
            "\n",
            "    accuracy                           0.98       200\n",
            "   macro avg       0.99      0.98      0.98       200\n",
            "weighted avg       0.99      0.98      0.98       200\n",
            "\n"
          ],
          "name": "stdout"
        },
        {
          "output_type": "display_data",
          "data": {
            "image/png": "[encoded data removed]",
            "text/plain": [
              "<Figure size 360x360 with 1 Axes>"
            ]
          },
          "metadata": {
            "tags": [],
            "needs_background": "light"
          }
        }
      ]
    },
    {
      "cell_type": "code",
      "metadata": {
        "colab": {
          "base_uri": "https://localhost:8080/",
          "height": 296
        },
        "id": "vCUoWqOjCl9H",
        "outputId": "2af1c5f4-dc41-407c-efa7-6837f3071241"
      },
      "source": [
        "fpr, tpr, thresholds = metrics.roc_curve(test_labels, prediction1)\n",
        "auc = metrics.roc_auc_score(test_labels, prediction1)\n",
        "print('AUC: %.3f' % auc)\n",
        "plt.plot(fpr, tpr,marker='.', label='Logistic')\n",
        "plt.xlabel('False Positive Rate')\n",
        "plt.ylabel('True Positive Rate')\n",
        "plt.show()"
      ],
      "execution_count": null,
      "outputs": [
        {
          "output_type": "stream",
          "text": [
            "AUC: 0.985\n"
          ],
          "name": "stdout"
        },
        {
          "output_type": "display_data",
          "data": {
            "image/png": "[encoded data removed]",
            "text/plain": [
              "<Figure size 432x288 with 1 Axes>"
            ]
          },
          "metadata": {
            "tags": [],
            "needs_background": "light"
          }
        }
      ]
    },
    {
      "cell_type": "code",
      "metadata": {
        "id": "AiMVNQ0qCt6g"
      },
      "source": [
        "model.save('/content/drive/MyDrive/VGG19.h5')"
      ],
      "execution_count": null,
      "outputs": []
    }
  ]
}