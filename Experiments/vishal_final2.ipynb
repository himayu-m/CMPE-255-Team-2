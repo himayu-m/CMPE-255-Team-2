{
  "nbformat": 4,
  "nbformat_minor": 0,
  "metadata": {
    "colab": {
      "name": "data_mining_project (1).ipynb",
      "provenance": [],
      "collapsed_sections": []
    },
    "kernelspec": {
      "name": "python3",
      "display_name": "Python 3"
    },
    "language_info": {
      "name": "python"
    },
    "accelerator": "GPU"
  },
  "cells": [
    {
      "cell_type": "code",
      "metadata": {
        "id": "iqKPDylPraxA"
      },
      "source": [
        "import numpy as np\n",
        "import pandas as pd\n",
        "import tensorflow as tf\n",
        "from keras.preprocessing.image import ImageDataGenerator\n",
        "\n",
        "from tensorflow.keras.applications import InceptionResNetV2\n",
        "\n",
        "from keras.layers import Activation, Dropout, Flatten, Dense\n",
        "from keras import regularizers, Sequential\n",
        "from keras.layers.normalization import BatchNormalization\n",
        "from keras.models import Model"
      ],
      "execution_count": 8,
      "outputs": []
    },
    {
      "cell_type": "code",
      "metadata": {
        "colab": {
          "base_uri": "https://localhost:8080/"
        },
        "id": "f-fj5AdardN7",
        "outputId": "6f51fd38-37e6-41d3-8c9f-7efb772f0f54"
      },
      "source": [
        "from google.colab import drive\n",
        "drive.mount('/content/drive')"
      ],
      "execution_count": 9,
      "outputs": [
        {
          "output_type": "stream",
          "text": [
            "Drive already mounted at /content/drive; to attempt to forcibly remount, call drive.mount(\"/content/drive\", force_remount=True).\n"
          ],
          "name": "stdout"
        }
      ]
    },
    {
      "cell_type": "code",
      "metadata": {
        "id": "LwvhG5GCrl0b"
      },
      "source": [
        "batch_size = 64"
      ],
      "execution_count": 10,
      "outputs": []
    },
    {
      "cell_type": "code",
      "metadata": {
        "colab": {
          "base_uri": "https://localhost:8080/"
        },
        "id": "Nbe7ZX1Tr1-5",
        "outputId": "a415550b-4c57-420e-a296-cdc90e4fc7d1"
      },
      "source": [
        "# rescale normalizes the data for the images.\n",
        "# Data is split into train and validation sets\n",
        "image_data_gen = ImageDataGenerator(rescale = 1./255,\n",
        "                                    shear_range = 0.2,\n",
        "                                    zoom_range = 0.2,\n",
        "                                    horizontal_flip = True,\n",
        "                                    validation_split=0.2)\n",
        "\n",
        "train_it = image_data_gen.flow_from_directory(directory='/content/drive/MyDrive/tb2/TB_Chest_Radiography_Database',\n",
        "                                              target_size=(299, 299),\n",
        "                                              color_mode='rgb',\n",
        "                                              batch_size=batch_size,\n",
        "                                              class_mode='binary',\n",
        "                                              subset='training'\n",
        "                                             )\n",
        "\n",
        "val_it = image_data_gen.flow_from_directory(directory='/content/drive/MyDrive/tb2/TB_Chest_Radiography_Database',\n",
        "                                              target_size=(299, 299),\n",
        "                                              color_mode='rgb',\n",
        "                                              batch_size=batch_size,\n",
        "                                              class_mode='binary',\n",
        "                                              subset='validation'\n",
        "                                             )\n",
        "\n",
        "test_it = image_data_gen.flow_from_directory(directory='/content/drive/MyDrive/TestImages for TB',\n",
        "                                              target_size=(224, 224),\n",
        "                                              batch_size=batch_size,\n",
        "                                              shuffle = False,\n",
        "                                              class_mode='binary',\n",
        "                                             )"
      ],
      "execution_count": 11,
      "outputs": [
        {
          "output_type": "stream",
          "text": [
            "Found 4264 images belonging to 2 classes.\n",
            "Found 1066 images belonging to 2 classes.\n",
            "Found 200 images belonging to 2 classes.\n"
          ],
          "name": "stdout"
        }
      ]
    },
    {
      "cell_type": "code",
      "metadata": {
        "colab": {
          "base_uri": "https://localhost:8080/"
        },
        "id": "uU7fB7NFsBia",
        "outputId": "0db9837b-e108-4659-cbe8-dda114ec722a"
      },
      "source": [
        "dnn201 = tf.keras.applications.InceptionResNetV2(\n",
        "    include_top=False,\n",
        "    input_tensor=None,\n",
        "    input_shape=(299,299,3),\n",
        "    weights = 'imagenet'\n",
        ")\n",
        "\n",
        "dnn201.trainable= False\n",
        "\n",
        "global_avg_layer = tf.keras.layers.GlobalAveragePooling2D()\n",
        "predictions = Dense(1, activation='sigmoid')\n",
        "\n",
        "model = Sequential([\n",
        "    dnn201,\n",
        "    global_avg_layer,\n",
        "    \n",
        "    BatchNormalization(),\n",
        "    Dropout(0.5),\n",
        "    \n",
        "    Dense(1024, activation='relu'),\n",
        "    Dense(512, activation='relu'),\n",
        "    BatchNormalization(),\n",
        "    Dropout(0.5),\n",
        "    \n",
        "    predictions\n",
        "])\n",
        "\n",
        "model.compile(loss='binary_crossentropy', optimizer='adam', metrics=['accuracy'])\n",
        "\n",
        "print(model.summary())"
      ],
      "execution_count": 12,
      "outputs": [
        {
          "output_type": "stream",
          "text": [
            "Downloading data from https://storage.googleapis.com/tensorflow/keras-applications/inception_resnet_v2/inception_resnet_v2_weights_tf_dim_ordering_tf_kernels_notop.h5\n",
            "219062272/219055592 [==============================] - 3s 0us/step\n",
            "Model: \"sequential\"\n",
            "_________________________________________________________________\n",
            "Layer (type)                 Output Shape              Param #   \n",
            "=================================================================\n",
            "inception_resnet_v2 (Functio (None, 8, 8, 1536)        54336736  \n",
            "_________________________________________________________________\n",
            "global_average_pooling2d (Gl (None, 1536)              0         \n",
            "_________________________________________________________________\n",
            "batch_normalization_203 (Bat (None, 1536)              6144      \n",
            "_________________________________________________________________\n",
            "dropout (Dropout)            (None, 1536)              0         \n",
            "_________________________________________________________________\n",
            "dense_1 (Dense)              (None, 1024)              1573888   \n",
            "_________________________________________________________________\n",
            "dense_2 (Dense)              (None, 512)               524800    \n",
            "_________________________________________________________________\n",
            "batch_normalization_204 (Bat (None, 512)               2048      \n",
            "_________________________________________________________________\n",
            "dropout_1 (Dropout)          (None, 512)               0         \n",
            "_________________________________________________________________\n",
            "dense (Dense)                (None, 1)                 513       \n",
            "=================================================================\n",
            "Total params: 56,444,129\n",
            "Trainable params: 2,103,297\n",
            "Non-trainable params: 54,340,832\n",
            "_________________________________________________________________\n",
            "None\n"
          ],
          "name": "stdout"
        }
      ]
    },
    {
      "cell_type": "code",
      "metadata": {
        "colab": {
          "base_uri": "https://localhost:8080/"
        },
        "id": "C4NN774hsG_4",
        "outputId": "f8815fe3-6dab-49b8-9960-bf3f7e6e17df"
      },
      "source": [
        "epochs = 10\n",
        "histort = model.fit(train_it,\n",
        "                       validation_data=val_it, epochs=epochs )\n",
        "#model.save('InceptionResNetV2')"
      ],
      "execution_count": 14,
      "outputs": [
        {
          "output_type": "stream",
          "text": [
            "Epoch 1/10\n",
            "67/67 [==============================] - 3458s 51s/step - loss: 0.3538 - accuracy: 0.8569 - val_loss: 0.7594 - val_accuracy: 0.6792\n",
            "Epoch 2/10\n",
            "67/67 [==============================] - 150s 2s/step - loss: 0.1708 - accuracy: 0.9394 - val_loss: 0.4124 - val_accuracy: 0.8161\n",
            "Epoch 3/10\n",
            "67/67 [==============================] - 149s 2s/step - loss: 0.1665 - accuracy: 0.9345 - val_loss: 0.1854 - val_accuracy: 0.9146\n",
            "Epoch 4/10\n",
            "67/67 [==============================] - 150s 2s/step - loss: 0.1329 - accuracy: 0.9530 - val_loss: 0.1531 - val_accuracy: 0.9353\n",
            "Epoch 5/10\n",
            "67/67 [==============================] - 150s 2s/step - loss: 0.1143 - accuracy: 0.9541 - val_loss: 0.1018 - val_accuracy: 0.9606\n",
            "Epoch 6/10\n",
            "67/67 [==============================] - 150s 2s/step - loss: 0.1123 - accuracy: 0.9610 - val_loss: 0.0785 - val_accuracy: 0.9700\n",
            "Epoch 7/10\n",
            "67/67 [==============================] - 150s 2s/step - loss: 0.1022 - accuracy: 0.9608 - val_loss: 0.0993 - val_accuracy: 0.9653\n",
            "Epoch 8/10\n",
            "67/67 [==============================] - 150s 2s/step - loss: 0.1025 - accuracy: 0.9618 - val_loss: 0.0715 - val_accuracy: 0.9719\n",
            "Epoch 9/10\n",
            "67/67 [==============================] - 150s 2s/step - loss: 0.1135 - accuracy: 0.9561 - val_loss: 0.0852 - val_accuracy: 0.9690\n",
            "Epoch 10/10\n",
            "67/67 [==============================] - 150s 2s/step - loss: 0.1102 - accuracy: 0.9591 - val_loss: 0.0625 - val_accuracy: 0.9775\n"
          ],
          "name": "stdout"
        }
      ]
    },
    {
      "cell_type": "code",
      "metadata": {
        "id": "BpM2n5g0kVkL"
      },
      "source": [
        "#results = model.evaluate(val_it)"
      ],
      "execution_count": null,
      "outputs": []
    },
    {
      "cell_type": "code",
      "metadata": {
        "colab": {
          "base_uri": "https://localhost:8080/",
          "height": 572
        },
        "id": "llihE3kqr21s",
        "outputId": "41d8c05c-9802-419f-bf67-d707763dbe70"
      },
      "source": [
        "import matplotlib.pyplot as plt\n",
        "%matplotlib inline\n",
        "epochs= range(1, len(histort.history[\"accuracy\"])+1)\n",
        "\n",
        "plt.plot(epochs, histort.history[\"accuracy\"], color=\"purple\")\n",
        "plt.plot(epochs, histort.history[\"val_accuracy\"], color=\"pink\")\n",
        "plt.xlabel(\"epochs\")\n",
        "plt.ylabel(\"accuracy\")\n",
        "plt.title(\"Accuracy plot\")\n",
        "plt.legend([\"train_acc\", \"val_acc\"])\n",
        "plt.show()\n",
        "\n",
        "plt.plot(epochs, histort.history[\"loss\"], color=\"purple\")\n",
        "plt.plot(epochs, histort.history[\"val_loss\"], color=\"pink\")\n",
        "plt.xlabel(\"epochs\")\n",
        "plt.ylabel(\"loss\")\n",
        "plt.title(\"Loss plot\")\n",
        "plt.legend([\"train_loss\", \"val_loss\"])\n",
        "plt.show()"
      ],
      "execution_count": 18,
      "outputs": [
        {
          "output_type": "display_data",
          "data": {
            "image/png": "[encoded data removed]",
            "text/plain": [
              "<Figure size 432x288 with 1 Axes>"
            ]
          },
          "metadata": {
            "tags": [],
            "needs_background": "light"
          }
        },
        {
          "output_type": "display_data",
          "data": {
            "image/png": "[encoded data removed]",
            "text/plain": [
              "<Figure size 432x288 with 1 Axes>"
            ]
          },
          "metadata": {
            "tags": [],
            "needs_background": "light"
          }
        }
      ]
    },
    {
      "cell_type": "code",
      "metadata": {
        "colab": {
          "base_uri": "https://localhost:8080/"
        },
        "id": "3bSCaYEgAUbm",
        "outputId": "443c1372-c0f5-4da6-df25-20fd665aed31"
      },
      "source": [
        "results = model.evaluate(val_it)"
      ],
      "execution_count": 26,
      "outputs": [
        {
          "output_type": "stream",
          "text": [
            "17/17 [==============================] - 30s 2s/step - loss: 0.0676 - accuracy: 0.9775\n"
          ],
          "name": "stdout"
        }
      ]
    },
    {
      "cell_type": "code",
      "metadata": {
        "colab": {
          "base_uri": "https://localhost:8080/"
        },
        "id": "MlmCwlOsAZaW",
        "outputId": "c1fd3447-4378-4042-d89c-8bed28851778"
      },
      "source": [
        "\n",
        "prediction= model.predict(val_it, verbose=2)\n",
        "prediction= (prediction > 0.5)\n",
        "prediction"
      ],
      "execution_count": 31,
      "outputs": [
        {
          "output_type": "stream",
          "text": [
            "17/17 - 28s\n"
          ],
          "name": "stdout"
        },
        {
          "output_type": "execute_result",
          "data": {
            "text/plain": [
              "array([[False],\n",
              "       [False],\n",
              "       [ True],\n",
              "       ...,\n",
              "       [ True],\n",
              "       [ True],\n",
              "       [False]])"
            ]
          },
          "metadata": {
            "tags": []
          },
          "execution_count": 31
        }
      ]
    },
    {
      "cell_type": "code",
      "metadata": {
        "colab": {
          "base_uri": "https://localhost:8080/"
        },
        "id": "E-2rABv5BBWU",
        "outputId": "c1117038-d048-42be-b4f0-8c32a0655962"
      },
      "source": [
        "val_labels=val_it.classes\n",
        "val_labels"
      ],
      "execution_count": 33,
      "outputs": [
        {
          "output_type": "execute_result",
          "data": {
            "text/plain": [
              "array([0, 0, 0, ..., 1, 1, 1], dtype=int32)"
            ]
          },
          "metadata": {
            "tags": []
          },
          "execution_count": 33
        }
      ]
    },
    {
      "cell_type": "code",
      "metadata": {
        "colab": {
          "base_uri": "https://localhost:8080/",
          "height": 496
        },
        "id": "uU8s9Wn0Ahz8",
        "outputId": "e9aac6a1-75b2-4f95-a03a-0590a6a64874"
      },
      "source": [
        "from sklearn import metrics\n",
        "from sklearn.metrics import confusion_matrix, accuracy_score, classification_report\n",
        "from mlxtend.plotting import plot_confusion_matrix\n",
        "\n",
        "cm = confusion_matrix(val_it.classes, prediction)\n",
        "plot_confusion_matrix(cm, figsize=(5,5))\n",
        "print(accuracy_score(val_it.classes, prediction))\n",
        "print(classification_report(val_it.classes, prediction))"
      ],
      "execution_count": 34,
      "outputs": [
        {
          "output_type": "stream",
          "text": [
            "0.5337711069418386\n",
            "              precision    recall  f1-score   support\n",
            "\n",
            "           0       0.64      0.65      0.65       700\n",
            "           1       0.32      0.31      0.31       366\n",
            "\n",
            "    accuracy                           0.53      1066\n",
            "   macro avg       0.48      0.48      0.48      1066\n",
            "weighted avg       0.53      0.53      0.53      1066\n",
            "\n"
          ],
          "name": "stdout"
        },
        {
          "output_type": "display_data",
          "data": {
            "image/png": "[encoded data removed]",
            "text/plain": [
              "<Figure size 360x360 with 1 Axes>"
            ]
          },
          "metadata": {
            "tags": [],
            "needs_background": "light"
          }
        }
      ]
    },
    {
      "cell_type": "code",
      "metadata": {
        "colab": {
          "base_uri": "https://localhost:8080/"
        },
        "id": "d2t4Mf1kCADi",
        "outputId": "b4f65243-89ee-4ea4-ce8b-f5a13332aa1b"
      },
      "source": [
        "results = model.evaluate(test_it)\n"
      ],
      "execution_count": 35,
      "outputs": [
        {
          "output_type": "stream",
          "text": [
            "4/4 [==============================] - 78s 25s/step - loss: 0.7103 - accuracy: 0.8050\n"
          ],
          "name": "stdout"
        }
      ]
    },
    {
      "cell_type": "code",
      "metadata": {
        "colab": {
          "base_uri": "https://localhost:8080/"
        },
        "id": "hAyABFcbCszS",
        "outputId": "610eb451-a5da-4cdf-e9e8-fe11813bd762"
      },
      "source": [
        "prediction1 = model.predict(test_it)\n",
        "prediction1 = (prediction1 > 0.5)\n",
        "prediction1"
      ],
      "execution_count": 37,
      "outputs": [
        {
          "output_type": "execute_result",
          "data": {
            "text/plain": [
              "array([[False],\n",
              "       [False],\n",
              "       [False],\n",
              "       [False],\n",
              "       [False],\n",
              "       [False],\n",
              "       [False],\n",
              "       [False],\n",
              "       [False],\n",
              "       [False],\n",
              "       [False],\n",
              "       [False],\n",
              "       [False],\n",
              "       [False],\n",
              "       [False],\n",
              "       [False],\n",
              "       [False],\n",
              "       [False],\n",
              "       [False],\n",
              "       [False],\n",
              "       [False],\n",
              "       [False],\n",
              "       [False],\n",
              "       [False],\n",
              "       [False],\n",
              "       [False],\n",
              "       [False],\n",
              "       [False],\n",
              "       [False],\n",
              "       [False],\n",
              "       [False],\n",
              "       [False],\n",
              "       [False],\n",
              "       [False],\n",
              "       [False],\n",
              "       [False],\n",
              "       [False],\n",
              "       [False],\n",
              "       [False],\n",
              "       [False],\n",
              "       [False],\n",
              "       [False],\n",
              "       [False],\n",
              "       [False],\n",
              "       [False],\n",
              "       [False],\n",
              "       [False],\n",
              "       [False],\n",
              "       [False],\n",
              "       [False],\n",
              "       [False],\n",
              "       [False],\n",
              "       [False],\n",
              "       [False],\n",
              "       [False],\n",
              "       [False],\n",
              "       [False],\n",
              "       [False],\n",
              "       [False],\n",
              "       [False],\n",
              "       [False],\n",
              "       [False],\n",
              "       [False],\n",
              "       [False],\n",
              "       [False],\n",
              "       [False],\n",
              "       [False],\n",
              "       [False],\n",
              "       [False],\n",
              "       [False],\n",
              "       [False],\n",
              "       [False],\n",
              "       [False],\n",
              "       [False],\n",
              "       [False],\n",
              "       [False],\n",
              "       [False],\n",
              "       [False],\n",
              "       [False],\n",
              "       [False],\n",
              "       [False],\n",
              "       [False],\n",
              "       [False],\n",
              "       [False],\n",
              "       [False],\n",
              "       [False],\n",
              "       [False],\n",
              "       [False],\n",
              "       [False],\n",
              "       [False],\n",
              "       [False],\n",
              "       [False],\n",
              "       [False],\n",
              "       [False],\n",
              "       [False],\n",
              "       [False],\n",
              "       [False],\n",
              "       [False],\n",
              "       [False],\n",
              "       [False],\n",
              "       [False],\n",
              "       [ True],\n",
              "       [False],\n",
              "       [False],\n",
              "       [ True],\n",
              "       [False],\n",
              "       [ True],\n",
              "       [ True],\n",
              "       [ True],\n",
              "       [ True],\n",
              "       [ True],\n",
              "       [False],\n",
              "       [False],\n",
              "       [False],\n",
              "       [False],\n",
              "       [ True],\n",
              "       [ True],\n",
              "       [False],\n",
              "       [ True],\n",
              "       [False],\n",
              "       [False],\n",
              "       [ True],\n",
              "       [False],\n",
              "       [ True],\n",
              "       [False],\n",
              "       [False],\n",
              "       [False],\n",
              "       [ True],\n",
              "       [ True],\n",
              "       [ True],\n",
              "       [False],\n",
              "       [ True],\n",
              "       [ True],\n",
              "       [ True],\n",
              "       [ True],\n",
              "       [ True],\n",
              "       [ True],\n",
              "       [False],\n",
              "       [ True],\n",
              "       [ True],\n",
              "       [ True],\n",
              "       [ True],\n",
              "       [ True],\n",
              "       [False],\n",
              "       [False],\n",
              "       [False],\n",
              "       [ True],\n",
              "       [ True],\n",
              "       [ True],\n",
              "       [ True],\n",
              "       [ True],\n",
              "       [ True],\n",
              "       [ True],\n",
              "       [ True],\n",
              "       [ True],\n",
              "       [ True],\n",
              "       [False],\n",
              "       [ True],\n",
              "       [ True],\n",
              "       [ True],\n",
              "       [False],\n",
              "       [False],\n",
              "       [ True],\n",
              "       [ True],\n",
              "       [ True],\n",
              "       [ True],\n",
              "       [ True],\n",
              "       [False],\n",
              "       [False],\n",
              "       [False],\n",
              "       [False],\n",
              "       [ True],\n",
              "       [ True],\n",
              "       [ True],\n",
              "       [False],\n",
              "       [ True],\n",
              "       [ True],\n",
              "       [False],\n",
              "       [ True],\n",
              "       [ True],\n",
              "       [False],\n",
              "       [False],\n",
              "       [False],\n",
              "       [ True],\n",
              "       [ True],\n",
              "       [ True],\n",
              "       [ True],\n",
              "       [False],\n",
              "       [False],\n",
              "       [ True],\n",
              "       [ True],\n",
              "       [False],\n",
              "       [False],\n",
              "       [False],\n",
              "       [ True],\n",
              "       [ True],\n",
              "       [ True],\n",
              "       [ True],\n",
              "       [False],\n",
              "       [False]])"
            ]
          },
          "metadata": {
            "tags": []
          },
          "execution_count": 37
        }
      ]
    },
    {
      "cell_type": "code",
      "metadata": {
        "colab": {
          "base_uri": "https://localhost:8080/",
          "height": 496
        },
        "id": "nZvXCGPGCmfD",
        "outputId": "8c88e0a6-a349-4cd7-e298-e7deb9430b6f"
      },
      "source": [
        "cm1 = confusion_matrix(test_it.classes, prediction1)\n",
        "plot_confusion_matrix(cm1, figsize=(5,5))\n",
        "print(accuracy_score(test_it.classes, prediction1))\n",
        "print(classification_report(test_it.classes, prediction1))"
      ],
      "execution_count": 38,
      "outputs": [
        {
          "output_type": "stream",
          "text": [
            "0.805\n",
            "              precision    recall  f1-score   support\n",
            "\n",
            "           0       0.72      1.00      0.84       100\n",
            "           1       1.00      0.61      0.76       100\n",
            "\n",
            "    accuracy                           0.81       200\n",
            "   macro avg       0.86      0.80      0.80       200\n",
            "weighted avg       0.86      0.81      0.80       200\n",
            "\n"
          ],
          "name": "stdout"
        },
        {
          "output_type": "display_data",
          "data": {
            "image/png": "[encoded data removed]",
            "text/plain": [
              "<Figure size 360x360 with 1 Axes>"
            ]
          },
          "metadata": {
            "tags": [],
            "needs_background": "light"
          }
        }
      ]
    }
  ]
}