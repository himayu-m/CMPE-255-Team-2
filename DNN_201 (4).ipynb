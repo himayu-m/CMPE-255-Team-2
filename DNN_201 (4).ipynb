{
  "nbformat": 4,
  "nbformat_minor": 0,
  "metadata": {
    "kernelspec": {
      "display_name": "Python 3",
      "language": "python",
      "name": "python3"
    },
    "language_info": {
      "codemirror_mode": {
        "name": "ipython",
        "version": 3
      },
      "file_extension": ".py",
      "mimetype": "text/x-python",
      "name": "python",
      "nbconvert_exporter": "python",
      "pygments_lexer": "ipython3",
      "version": "3.8.2"
    },
    "colab": {
      "name": "DNN_201.ipynb",
      "provenance": [],
      "collapsed_sections": []
    }
  },
  "cells": [
    {
      "cell_type": "code",
      "metadata": {
        "id": "HypOac2ftF09"
      },
      "source": [
        "import numpy as np\n",
        "import pandas as pd\n",
        "import tensorflow as tf\n",
        "from keras.preprocessing.image import ImageDataGenerator\n",
        "\n",
        "from tensorflow.keras.applications import InceptionResNetV2\n",
        "\n",
        "from keras.layers import Activation, Dropout, Flatten, Dense\n",
        "from keras import regularizers, Sequential\n",
        "from keras.layers.normalization import BatchNormalization\n",
        "from keras.models import Model"
      ],
      "execution_count": null,
      "outputs": []
    },
    {
      "cell_type": "code",
      "metadata": {
        "id": "0_PvlnkGtF1B"
      },
      "source": [
        "batch_size = 64"
      ],
      "execution_count": null,
      "outputs": []
    },
    {
      "cell_type": "code",
      "metadata": {
        "colab": {
          "base_uri": "https://localhost:8080/"
        },
        "id": "LKfDZX9dtF1C",
        "outputId": "ec39b5bc-1ac4-4120-b7fa-1d5ad7d3fbda"
      },
      "source": [
        "# rescale normalizes the data for the images.\n",
        "# Data is split into train and validation sets\n",
        "image_data_gen = ImageDataGenerator(rescale = 1./255,\n",
        "                                    shear_range = 0.2,\n",
        "                                    zoom_range = 0.2,\n",
        "                                    horizontal_flip = True,\n",
        "                                    validation_split=0.5)\n",
        "\n",
        "train_it = image_data_gen.flow_from_directory(directory='/content/drive/MyDrive/ML_Project_Dataset/train',\n",
        "                                              target_size=(299, 224),\n",
        "                                              color_mode='rgb',\n",
        "                                              batch_size=batch_size,\n",
        "                                              class_mode='categorical',\n",
        "                                              subset='training'\n",
        "                                             )\n",
        "\n",
        "val_it = image_data_gen.flow_from_directory(directory='/content/drive/MyDrive/ML_Project_Dataset/train',\n",
        "                                              target_size=(299, 299),\n",
        "                                              color_mode='rgb',\n",
        "                                              batch_size=batch_size,\n",
        "                                              class_mode='categorical',\n",
        "                                              subset='validation'\n",
        "                                             )"
      ],
      "execution_count": null,
      "outputs": [
        {
          "output_type": "stream",
          "text": [
            "Found 8389 images belonging to 12 classes.\n",
            "Found 8384 images belonging to 12 classes.\n"
          ],
          "name": "stdout"
        }
      ]
    },
    {
      "cell_type": "code",
      "metadata": {
        "id": "eEj4YOYTtF1C",
        "colab": {
          "base_uri": "https://localhost:8080/"
        },
        "outputId": "df1d2111-d66e-4424-dfb9-343ac2695b30"
      },
      "source": [
        "dnn201 = tf.keras.applications.InceptionResNetV2(\n",
        "    include_top=False,\n",
        "    input_tensor=None,\n",
        "    input_shape=(224,224,3),\n",
        "    weights = 'imagenet'\n",
        ")\n",
        "\n",
        "dnn201.trainable= False\n",
        "\n",
        "global_avg_layer = tf.keras.layers.GlobalAveragePooling2D()\n",
        "predictions = Dense(12, activation='softmax')\n",
        "\n",
        "model = Sequential([\n",
        "    dnn201,\n",
        "    global_avg_layer,\n",
        "    \n",
        "    BatchNormalization(),\n",
        "    Dropout(0.5),\n",
        "    \n",
        "    Dense(1024, activation='relu'),\n",
        "    Dense(512, activation='relu'),\n",
        "    BatchNormalization(),\n",
        "    Dropout(0.5),\n",
        "    \n",
        "    predictions\n",
        "])\n",
        "\n",
        "model.compile(loss='categorical_crossentropy', optimizer='adam', metrics=['accuracy'])\n",
        "\n",
        "print(model.summary())"
      ],
      "execution_count": null,
      "outputs": [
        {
          "output_type": "stream",
          "text": [
            "Model: \"sequential_6\"\n",
            "_________________________________________________________________\n",
            "Layer (type)                 Output Shape              Param #   \n",
            "=================================================================\n",
            "inception_resnet_v2 (Functio (None, 5, 5, 1536)        54336736  \n",
            "_________________________________________________________________\n",
            "global_average_pooling2d_6 ( (None, 1536)              0         \n",
            "_________________________________________________________________\n",
            "batch_normalization_1431 (Ba (None, 1536)              6144      \n",
            "_________________________________________________________________\n",
            "dropout_10 (Dropout)         (None, 1536)              0         \n",
            "_________________________________________________________________\n",
            "dense_17 (Dense)             (None, 1024)              1573888   \n",
            "_________________________________________________________________\n",
            "dense_18 (Dense)             (None, 512)               524800    \n",
            "_________________________________________________________________\n",
            "batch_normalization_1432 (Ba (None, 512)               2048      \n",
            "_________________________________________________________________\n",
            "dropout_11 (Dropout)         (None, 512)               0         \n",
            "_________________________________________________________________\n",
            "dense_16 (Dense)             (None, 12)                6156      \n",
            "=================================================================\n",
            "Total params: 56,449,772\n",
            "Trainable params: 2,108,940\n",
            "Non-trainable params: 54,340,832\n",
            "_________________________________________________________________\n",
            "None\n"
          ],
          "name": "stdout"
        }
      ]
    },
    {
      "cell_type": "code",
      "metadata": {
        "scrolled": false,
        "id": "eDWqxROYtF1D",
        "colab": {
          "base_uri": "https://localhost:8080/"
        },
        "outputId": "5db71b4b-f4b6-4173-91bb-011b5fb0bf3e"
      },
      "source": [
        "epochs = 2\n",
        "model_hist = model.fit(train_it,\n",
        "#                       validation_data=val_it)\n",
        "                       epochs=epochs, )\n",
        "model.save('InceptionResNetV2')"
      ],
      "execution_count": null,
      "outputs": [
        {
          "output_type": "stream",
          "text": [
            "Epoch 1/2\n",
            "132/132 [==============================] - 5563s 42s/step - loss: 2.4086 - accuracy: 0.3776\n",
            "Epoch 2/2\n",
            " 96/132 [====================>.........] - ETA: 13:18 - loss: 1.5023 - accuracy: 0.5519"
          ],
          "name": "stdout"
        }
      ]
    }
  ]
}